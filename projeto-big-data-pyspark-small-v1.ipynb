{
 "cells": [
  {
   "cell_type": "code",
   "execution_count": 0,
   "metadata": {
    "application/vnd.databricks.v1+cell": {
     "cellMetadata": {
      "byteLimit": 2048000,
      "rowLimit": 10000
     },
     "inputWidgets": {},
     "nuid": "e2521f5c-1dd5-4449-aa80-3af51275d168",
     "showTitle": false,
     "tableResultSettingsMap": {},
     "title": ""
    }
   },
   "outputs": [],
   "source": [
    "##\n",
    "access_key = 'xxxxxxxxxx'\n",
    "secret_key = 'xxx+xxxxxxxx'\n",
    "sc._jsc.hadoopConfiguration().set(\"fs.s3a.access.key\", access_key)\n",
    "sc._jsc.hadoopConfiguration().set(\"fs.s3a.secret.key\", secret_key)\n",
    "\n",
    "# If you are using Auto Loader file notification mode to load files, provide the AWS Region ID.\n",
    "aws_region = \"us-east-2\"\n",
    "sc._jsc.hadoopConfiguration().set(\"fs.s3a.endpoint\", \"s3.\" + aws_region + \".amazonaws.com\")\n",
    "\n"
   ]
  },
  {
   "cell_type": "code",
   "execution_count": 0,
   "metadata": {
    "application/vnd.databricks.v1+cell": {
     "cellMetadata": {
      "byteLimit": 2048000,
      "rowLimit": 10000
     },
     "inputWidgets": {},
     "nuid": "62976d70-92ca-46d7-ae12-c0d7030b5f74",
     "showTitle": false,
     "tableResultSettingsMap": {},
     "title": ""
    }
   },
   "outputs": [],
   "source": [
    "import time\n",
    "from pyspark.sql import SparkSession\n",
    "from pyspark.sql.functions import col, regexp_replace, to_date\n"
   ]
  },
  {
   "cell_type": "code",
   "execution_count": 0,
   "metadata": {
    "application/vnd.databricks.v1+cell": {
     "cellMetadata": {
      "byteLimit": 2048000,
      "rowLimit": 10000
     },
     "inputWidgets": {},
     "nuid": "8f26d8ec-3e80-4628-b041-615483515b76",
     "showTitle": false,
     "tableResultSettingsMap": {},
     "title": ""
    }
   },
   "outputs": [],
   "source": [
    "def read_file(path):\n",
    "    df = spark.read.csv(path,inferSchema=True,header=True)\n",
    "    return df\n",
    "#Example#\n",
    "#df = spark.read.csv('s3a://techykuntal-demo-data-bucket/employee/*',inferSchema=True,header=True)\n",
    "\n"
   ]
  },
  {
   "cell_type": "code",
   "execution_count": 0,
   "metadata": {
    "application/vnd.databricks.v1+cell": {
     "cellMetadata": {
      "byteLimit": 2048000,
      "rowLimit": 10000
     },
     "inputWidgets": {},
     "nuid": "52845551-8d90-4fe2-809d-1e1406498c7b",
     "showTitle": false,
     "tableResultSettingsMap": {},
     "title": ""
    }
   },
   "outputs": [
    {
     "output_type": "stream",
     "name": "stdout",
     "output_type": "stream",
     "text": [
      "root\n |-- id: integer (nullable = true)\n |-- client_id: integer (nullable = true)\n |-- card_brand: string (nullable = true)\n |-- card_type: string (nullable = true)\n |-- card_number: long (nullable = true)\n |-- expires: string (nullable = true)\n |-- cvv: integer (nullable = true)\n |-- has_chip: string (nullable = true)\n |-- num_cards_issued: integer (nullable = true)\n |-- credit_limit: string (nullable = true)\n |-- acct_open_date: string (nullable = true)\n |-- year_pin_last_changed: integer (nullable = true)\n |-- card_on_dark_web: string (nullable = true)\n\n"
     ]
    }
   ],
   "source": [
    "df.printSchema()"
   ]
  },
  {
   "cell_type": "code",
   "execution_count": 0,
   "metadata": {
    "application/vnd.databricks.v1+cell": {
     "cellMetadata": {
      "byteLimit": 2048000,
      "rowLimit": 10000
     },
     "inputWidgets": {},
     "nuid": "d411c6a1-cf5c-4f14-a581-72ac00610a5d",
     "showTitle": false,
     "tableResultSettingsMap": {},
     "title": ""
    }
   },
   "outputs": [
    {
     "output_type": "stream",
     "name": "stdout",
     "output_type": "stream",
     "text": [
      "Out[93]: 6146"
     ]
    }
   ],
   "source": [
    "df.count()"
   ]
  },
  {
   "cell_type": "code",
   "execution_count": 0,
   "metadata": {
    "application/vnd.databricks.v1+cell": {
     "cellMetadata": {
      "byteLimit": 2048000,
      "rowLimit": 10000
     },
     "inputWidgets": {},
     "nuid": "64a0314d-b330-4f00-b993-9db29ec2d12f",
     "showTitle": false,
     "tableResultSettingsMap": {},
     "title": ""
    }
   },
   "outputs": [],
   "source": [
    "def measure_time(func, *args):\n",
    "    start_time = time.time()\n",
    "    result = func(*args)\n",
    "    end_time = time.time()\n",
    "    print(f\"Tempo de execução para {func.__name__}: {end_time - start_time:.4f} segundos\")\n",
    "    return result"
   ]
  },
  {
   "cell_type": "code",
   "execution_count": 0,
   "metadata": {
    "application/vnd.databricks.v1+cell": {
     "cellMetadata": {
      "byteLimit": 2048000,
      "rowLimit": 10000
     },
     "inputWidgets": {},
     "nuid": "eb20ea7c-4911-446d-8fca-37ea1411470e",
     "showTitle": false,
     "tableResultSettingsMap": {},
     "title": ""
    }
   },
   "outputs": [],
   "source": [
    "def clean_dataframe(df):\n",
    "    df = df.withColumn(\"has_chip\", regexp_replace(col(\"has_chip\"), \"YES\", \"True\"))\n",
    "    df = df.withColumn(\"has_chip\", regexp_replace(col(\"has_chip\"), \"NO\", \"False\"))\n",
    "    df = df.withColumn(\"credit_limit\", regexp_replace(col(\"credit_limit\"), \"\\\\$\", \"\").cast(\"integer\"))\n",
    "    df = df.withColumn(\"expires\", to_date(col(\"expires\"), \"MM/yyyy\"))\n",
    "    df = df.withColumn(\"acct_open_date\", to_date(col(\"acct_open_date\"), \"MM/yyyy\"))\n",
    "    return df"
   ]
  },
  {
   "cell_type": "code",
   "execution_count": 0,
   "metadata": {
    "application/vnd.databricks.v1+cell": {
     "cellMetadata": {
      "byteLimit": 2048000,
      "rowLimit": 10000
     },
     "inputWidgets": {},
     "nuid": "eb4f2c5f-c7f8-4d7a-9b9e-e806d3e6abd7",
     "showTitle": false,
     "tableResultSettingsMap": {},
     "title": ""
    }
   },
   "outputs": [],
   "source": [
    "\n",
    "# Função para ordenar o DataFrame\n",
    "def sort_dataframe(df):\n",
    "    return df.orderBy(col(\"credit_limit\").desc())"
   ]
  },
  {
   "cell_type": "code",
   "execution_count": 0,
   "metadata": {
    "application/vnd.databricks.v1+cell": {
     "cellMetadata": {
      "byteLimit": 2048000,
      "rowLimit": 10000
     },
     "inputWidgets": {},
     "nuid": "9fcfee12-1217-4e50-bbb5-83c5c89fb1b2",
     "showTitle": false,
     "tableResultSettingsMap": {},
     "title": ""
    }
   },
   "outputs": [],
   "source": [
    "# Função para agrupar o DataFrame\n",
    "# Exemplo: Contar quantos cartões de cada marca existem\n",
    "def group_dataframe(df):\n",
    "    return df.groupBy(\"card_brand\").count()"
   ]
  },
  {
   "cell_type": "code",
   "execution_count": 0,
   "metadata": {
    "application/vnd.databricks.v1+cell": {
     "cellMetadata": {
      "byteLimit": 2048000,
      "rowLimit": 10000
     },
     "inputWidgets": {},
     "nuid": "45f91133-74bd-403c-b0d2-bdbfea0a2db7",
     "showTitle": false,
     "tableResultSettingsMap": {},
     "title": ""
    }
   },
   "outputs": [],
   "source": [
    "# Função para filtrar o DataFrame\n",
    "# Exemplo: Filtrar cartões que estão na dark web e têm chip\n",
    "def filter_dataframe(df):\n",
    "    return df.filter((col(\"card_on_dark_web\") == \"No\") & (col(\"has_chip\") == \"True\"))\n"
   ]
  },
  {
   "cell_type": "code",
   "execution_count": 0,
   "metadata": {
    "application/vnd.databricks.v1+cell": {
     "cellMetadata": {
      "byteLimit": 2048000,
      "rowLimit": 10000
     },
     "inputWidgets": {},
     "nuid": "3b45afaa-25b9-462c-977b-4cb3bba62958",
     "showTitle": false,
     "tableResultSettingsMap": {},
     "title": ""
    }
   },
   "outputs": [],
   "source": [
    "def save_file(df):\n",
    "    return df.write \\\n",
    "    .option(\"header\", True) \\\n",
    "    .csv('output_path.csv')"
   ]
  },
  {
   "cell_type": "code",
   "execution_count": 0,
   "metadata": {
    "application/vnd.databricks.v1+cell": {
     "cellMetadata": {
      "byteLimit": 2048000,
      "rowLimit": 10000
     },
     "inputWidgets": {},
     "nuid": "cf2cc6e6-6573-4aa8-baa5-340e6a3935af",
     "showTitle": false,
     "tableResultSettingsMap": {},
     "title": ""
    }
   },
   "outputs": [
    {
     "output_type": "stream",
     "name": "stdout",
     "output_type": "stream",
     "text": [
      "Tempo de execução para read_file: 1.5573 segundos\nTempo de execução para clean_dataframe: 0.1067 segundos\nTempo de execução para sort_dataframe: 0.0194 segundos\nTempo de execução para group_dataframe: 0.0174 segundos\nTempo de execução para filter_dataframe: 0.0178 segundos\nTempo de execução para save_file: 1.9432 segundos\n"
     ]
    }
   ],
   "source": [
    "# Aplicar as transformações com medição de tempo\n",
    "df = measure_time(read_file, 's3a://financial-dataset-ada/cards_data.csv')\n",
    "df_cleaned = measure_time(clean_dataframe, df)\n",
    "df_sorted = measure_time(sort_dataframe, df_cleaned)\n",
    "df_grouped = measure_time(group_dataframe, df_cleaned)\n",
    "df_filtered = measure_time(filter_dataframe, df_cleaned)\n",
    "df_save = measure_time(save_file, df)"
   ]
  },
  {
   "cell_type": "code",
   "execution_count": 0,
   "metadata": {
    "application/vnd.databricks.v1+cell": {
     "cellMetadata": {
      "byteLimit": 2048000,
      "rowLimit": 10000
     },
     "inputWidgets": {},
     "nuid": "59465021-de9b-4457-afc2-86a8d2754076",
     "showTitle": false,
     "tableResultSettingsMap": {},
     "title": ""
    }
   },
   "outputs": [
    {
     "output_type": "stream",
     "name": "stdout",
     "output_type": "stream",
     "text": [
      "+----+---------+----------+---------------+----------------+-------+---+--------+----------------+------------+--------------+---------------------+----------------+\n|  id|client_id|card_brand|      card_type|     card_number|expires|cvv|has_chip|num_cards_issued|credit_limit|acct_open_date|year_pin_last_changed|card_on_dark_web|\n+----+---------+----------+---------------+----------------+-------+---+--------+----------------+------------+--------------+---------------------+----------------+\n|4524|      825|      Visa|          Debit|4344676511950444|12/2022|623|     YES|               2|      $24295|       09/2002|                 2008|              No|\n|2731|      825|      Visa|          Debit|4956965974959986|12/2020|393|     YES|               2|      $21968|       04/2014|                 2014|              No|\n|3701|      825|      Visa|          Debit|4582313478255491|02/2024|719|     YES|               2|      $46414|       07/2003|                 2004|              No|\n|  42|      825|      Visa|         Credit|4879494103069057|08/2024|693|      NO|               1|      $12400|       01/2003|                 2012|              No|\n|4659|      825|Mastercard|Debit (Prepaid)|5722874738736011|03/2009| 75|     YES|               1|         $28|       09/2008|                 2009|              No|\n|4537|     1746|      Visa|         Credit|4404898874682993|09/2003|736|     YES|               1|      $27500|       09/2003|                 2012|              No|\n|1278|     1746|      Visa|          Debit|4001482973848631|07/2022|972|     YES|               2|      $28508|       02/2011|                 2011|              No|\n|3687|     1746|Mastercard|          Debit|5627220683410948|06/2022| 48|     YES|               2|       $9022|       07/2003|                 2015|              No|\n|3465|     1746|Mastercard|Debit (Prepaid)|5711382187309326|11/2020|722|     YES|               2|         $54|       06/2010|                 2015|              No|\n|3754|     1746|Mastercard|Debit (Prepaid)|5766121508358701|02/2023|908|     YES|               1|         $99|       07/2006|                 2012|              No|\n|5144|     1718|Mastercard|          Debit|5495199163052054|03/2022|677|     YES|               2|      $31599|       10/2009|                 2009|              No|\n|2029|     1718|Mastercard|          Debit|5804499644308599|07/2023|258|      NO|               2|      $27480|       03/2002|                 2008|              No|\n|2379|     1718|Mastercard|          Debit|5766352389579834|02/2020|992|     YES|               1|      $26743|       03/2019|                 2019|              No|\n|2732|     1718|      Visa|          Debit|4242015583697294|06/2020|928|     YES|               1|      $31463|       04/2014|                 2014|              No|\n|4706|     1718|Mastercard|          Debit|5191030913182493|06/2024|360|     YES|               1|      $16055|       09/2009|                 2009|              No|\n| 281|      708|      Visa|         Credit|4017261190134817|05/2015|877|     YES|               2|      $98100|       01/2011|                 2011|              No|\n|1106|      708|Mastercard|Debit (Prepaid)|5581970288727991|06/2020|448|     YES|               1|         $62|       02/2007|                 2007|              No|\n|5621|      708|      Visa|          Debit|4032240655674503|06/2022| 53|     YES|               1|     $132439|       11/2010|                 2011|              No|\n|5165|      708|      Visa|          Debit|4935974646456357|06/2020|649|     YES|               1|     $125723|       10/2009|                 2010|              No|\n|5757|     1164|Mastercard|          Debit|5905027855347659|01/2022|886|     YES|               1|      $34900|       12/1999|                 2012|              No|\n+----+---------+----------+---------------+----------------+-------+---+--------+----------------+------------+--------------+---------------------+----------------+\nonly showing top 20 rows\n\n+----+---------+----------+---------------+----------------+----------+---+--------+----------------+------------+--------------+---------------------+----------------+\n|  id|client_id|card_brand|      card_type|     card_number|   expires|cvv|has_chip|num_cards_issued|credit_limit|acct_open_date|year_pin_last_changed|card_on_dark_web|\n+----+---------+----------+---------------+----------------+----------+---+--------+----------------+------------+--------------+---------------------+----------------+\n|4524|      825|      Visa|          Debit|4344676511950444|2022-12-01|623|    True|               2|       24295|    2002-09-01|                 2008|              No|\n|2731|      825|      Visa|          Debit|4956965974959986|2020-12-01|393|    True|               2|       21968|    2014-04-01|                 2014|              No|\n|3701|      825|      Visa|          Debit|4582313478255491|2024-02-01|719|    True|               2|       46414|    2003-07-01|                 2004|              No|\n|  42|      825|      Visa|         Credit|4879494103069057|2024-08-01|693|   False|               1|       12400|    2003-01-01|                 2012|              No|\n|4659|      825|Mastercard|Debit (Prepaid)|5722874738736011|2009-03-01| 75|    True|               1|          28|    2008-09-01|                 2009|              No|\n|4537|     1746|      Visa|         Credit|4404898874682993|2003-09-01|736|    True|               1|       27500|    2003-09-01|                 2012|              No|\n|1278|     1746|      Visa|          Debit|4001482973848631|2022-07-01|972|    True|               2|       28508|    2011-02-01|                 2011|              No|\n|3687|     1746|Mastercard|          Debit|5627220683410948|2022-06-01| 48|    True|               2|        9022|    2003-07-01|                 2015|              No|\n|3465|     1746|Mastercard|Debit (Prepaid)|5711382187309326|2020-11-01|722|    True|               2|          54|    2010-06-01|                 2015|              No|\n|3754|     1746|Mastercard|Debit (Prepaid)|5766121508358701|2023-02-01|908|    True|               1|          99|    2006-07-01|                 2012|              No|\n|5144|     1718|Mastercard|          Debit|5495199163052054|2022-03-01|677|    True|               2|       31599|    2009-10-01|                 2009|              No|\n|2029|     1718|Mastercard|          Debit|5804499644308599|2023-07-01|258|   False|               2|       27480|    2002-03-01|                 2008|              No|\n|2379|     1718|Mastercard|          Debit|5766352389579834|2020-02-01|992|    True|               1|       26743|    2019-03-01|                 2019|              No|\n|2732|     1718|      Visa|          Debit|4242015583697294|2020-06-01|928|    True|               1|       31463|    2014-04-01|                 2014|              No|\n|4706|     1718|Mastercard|          Debit|5191030913182493|2024-06-01|360|    True|               1|       16055|    2009-09-01|                 2009|              No|\n| 281|      708|      Visa|         Credit|4017261190134817|2015-05-01|877|    True|               2|       98100|    2011-01-01|                 2011|              No|\n|1106|      708|Mastercard|Debit (Prepaid)|5581970288727991|2020-06-01|448|    True|               1|          62|    2007-02-01|                 2007|              No|\n|5621|      708|      Visa|          Debit|4032240655674503|2022-06-01| 53|    True|               1|      132439|    2010-11-01|                 2011|              No|\n|5165|      708|      Visa|          Debit|4935974646456357|2020-06-01|649|    True|               1|      125723|    2009-10-01|                 2010|              No|\n|5757|     1164|Mastercard|          Debit|5905027855347659|2022-01-01|886|    True|               1|       34900|    1999-12-01|                 2012|              No|\n+----+---------+----------+---------------+----------------+----------+---+--------+----------------+------------+--------------+---------------------+----------------+\nonly showing top 20 rows\n\n+----+---------+----------+---------+----------------+----------+---+--------+----------------+------------+--------------+---------------------+----------------+\n|  id|client_id|card_brand|card_type|     card_number|   expires|cvv|has_chip|num_cards_issued|credit_limit|acct_open_date|year_pin_last_changed|card_on_dark_web|\n+----+---------+----------+---------+----------------+----------+---+--------+----------------+------------+--------------+---------------------+----------------+\n|4128|     1156|Mastercard|    Debit|5843025504634580|2009-12-01|568|    True|               1|      151223|    2004-08-01|                 2009|              No|\n|3289|     1259|Mastercard|    Debit|5681560415834998|2021-04-01|699|    True|               2|      141391|    2005-06-01|                 2005|              No|\n|6016|      278|Mastercard|    Debit|5601819028761095|2023-05-01|832|   False|               1|      137669|    2010-12-01|                 2010|              No|\n|5621|      708|      Visa|    Debit|4032240655674503|2022-06-01| 53|    True|               1|      132439|    2010-11-01|                 2011|              No|\n|2828|      944|Mastercard|    Debit|5043143066698540|2020-09-01|288|    True|               2|      130971|    2002-05-01|                 2010|              No|\n|5165|      708|      Visa|    Debit|4935974646456357|2020-06-01|649|    True|               1|      125723|    2009-10-01|                 2010|              No|\n|2045|     1259|Mastercard|    Debit|5932390608727778|2014-04-01|612|    True|               1|       98334|    2003-03-01|                 2007|              No|\n| 281|      708|      Visa|   Credit|4017261190134817|2015-05-01|877|    True|               2|       98100|    2011-01-01|                 2011|              No|\n|2166|     1648|      Visa|    Debit|4721815072237153|2021-06-01|106|    True|               2|       97352|    2007-03-01|                 2019|              No|\n|5702|     1014|      Visa|    Debit|4467199760802877|2014-11-01|176|    True|               1|       96907|    2014-11-01|                 2014|              No|\n|3355|     1811|Mastercard|    Debit|5978884065247077|2024-10-01|708|    True|               2|       96637|    2007-06-01|                 2007|              No|\n|1042|     1223|      Visa|    Debit|4546418791213683|2010-06-01|955|    True|               1|       92939|    2004-02-01|                 2011|              No|\n|6123|      278|Mastercard|    Debit|5945500533879840|2023-01-01|428|    True|               1|       92828|    2016-12-01|                 2016|              No|\n|1434|     1325|      Amex|   Credit| 337243144975638|2020-07-01| 64|    True|               1|       89900|    2020-02-01|                 2020|              No|\n|3280|     1156|      Visa|    Debit|4129256843458775|2022-08-01|936|    True|               2|       88743|    2004-06-01|                 2010|              No|\n|3141|     1811|      Visa|    Debit|4910341780863441|2022-11-01|246|    True|               1|       87408|    2013-05-01|                 2013|              No|\n|5251|     1223|      Visa|    Debit|4239806874218454|2011-11-01|564|    True|               2|       86262|    2011-10-01|                 2011|              No|\n|1823|      599|      Visa|    Debit|4802532694603491|2021-03-01|868|    True|               1|       82677|    2020-02-01|                 2020|              No|\n| 989|      440|Mastercard|    Debit|5098870349133203|2022-12-01|435|    True|               1|       79717|    2001-02-01|                 2013|              No|\n|2006|     1259|      Visa|    Debit|4606036624560532|2022-07-01| 40|    True|               1|       78790|    1997-03-01|                 2011|              No|\n+----+---------+----------+---------+----------------+----------+---+--------+----------------+------------+--------------+---------------------+----------------+\nonly showing top 20 rows\n\n+----------+-----+\n|card_brand|count|\n+----------+-----+\n|  Discover|  209|\n|      Visa| 2326|\n|Mastercard| 3209|\n|      Amex|  402|\n+----------+-----+\n\n+----+---------+----------+---------------+----------------+----------+---+--------+----------------+------------+--------------+---------------------+----------------+\n|  id|client_id|card_brand|      card_type|     card_number|   expires|cvv|has_chip|num_cards_issued|credit_limit|acct_open_date|year_pin_last_changed|card_on_dark_web|\n+----+---------+----------+---------------+----------------+----------+---+--------+----------------+------------+--------------+---------------------+----------------+\n|4524|      825|      Visa|          Debit|4344676511950444|2022-12-01|623|    True|               2|       24295|    2002-09-01|                 2008|              No|\n|2731|      825|      Visa|          Debit|4956965974959986|2020-12-01|393|    True|               2|       21968|    2014-04-01|                 2014|              No|\n|3701|      825|      Visa|          Debit|4582313478255491|2024-02-01|719|    True|               2|       46414|    2003-07-01|                 2004|              No|\n|4659|      825|Mastercard|Debit (Prepaid)|5722874738736011|2009-03-01| 75|    True|               1|          28|    2008-09-01|                 2009|              No|\n|4537|     1746|      Visa|         Credit|4404898874682993|2003-09-01|736|    True|               1|       27500|    2003-09-01|                 2012|              No|\n|1278|     1746|      Visa|          Debit|4001482973848631|2022-07-01|972|    True|               2|       28508|    2011-02-01|                 2011|              No|\n|3687|     1746|Mastercard|          Debit|5627220683410948|2022-06-01| 48|    True|               2|        9022|    2003-07-01|                 2015|              No|\n|3465|     1746|Mastercard|Debit (Prepaid)|5711382187309326|2020-11-01|722|    True|               2|          54|    2010-06-01|                 2015|              No|\n|3754|     1746|Mastercard|Debit (Prepaid)|5766121508358701|2023-02-01|908|    True|               1|          99|    2006-07-01|                 2012|              No|\n|5144|     1718|Mastercard|          Debit|5495199163052054|2022-03-01|677|    True|               2|       31599|    2009-10-01|                 2009|              No|\n|2379|     1718|Mastercard|          Debit|5766352389579834|2020-02-01|992|    True|               1|       26743|    2019-03-01|                 2019|              No|\n|2732|     1718|      Visa|          Debit|4242015583697294|2020-06-01|928|    True|               1|       31463|    2014-04-01|                 2014|              No|\n|4706|     1718|Mastercard|          Debit|5191030913182493|2024-06-01|360|    True|               1|       16055|    2009-09-01|                 2009|              No|\n| 281|      708|      Visa|         Credit|4017261190134817|2015-05-01|877|    True|               2|       98100|    2011-01-01|                 2011|              No|\n|1106|      708|Mastercard|Debit (Prepaid)|5581970288727991|2020-06-01|448|    True|               1|          62|    2007-02-01|                 2007|              No|\n|5621|      708|      Visa|          Debit|4032240655674503|2022-06-01| 53|    True|               1|      132439|    2010-11-01|                 2011|              No|\n|5165|      708|      Visa|          Debit|4935974646456357|2020-06-01|649|    True|               1|      125723|    2009-10-01|                 2010|              No|\n|5757|     1164|Mastercard|          Debit|5905027855347659|2022-01-01|886|    True|               1|       34900|    1999-12-01|                 2012|              No|\n|  27|       68|      Visa|         Credit|4099623033306950|2021-09-01| 74|    True|               2|        9900|    2002-01-01|                 2019|              No|\n|4648|       68|      Visa|          Debit|4281200324251212|2013-07-01|865|    True|               2|       21587|    2007-09-01|                 2007|              No|\n+----+---------+----------+---------------+----------------+----------+---+--------+----------------+------------+--------------+---------------------+----------------+\nonly showing top 20 rows\n\n"
     ]
    }
   ],
   "source": [
    "# Mostrar os resultados\n",
    "df.show()\n",
    "df_cleaned.show()\n",
    "df_sorted.show()\n",
    "df_grouped.show()\n",
    "df_filtered.show()"
   ]
  }
 ],
 "metadata": {
  "application/vnd.databricks.v1+notebook": {
   "dashboards": [],
   "environmentMetadata": null,
   "language": "python",
   "notebookMetadata": {
    "pythonIndentUnit": 4
   },
   "notebookName": "projeto-big-data-pyspark-small-v1",
   "widgets": {}
  }
 },
 "nbformat": 4,
 "nbformat_minor": 0
}
