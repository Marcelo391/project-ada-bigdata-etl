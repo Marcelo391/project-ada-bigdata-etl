{
 "cells": [
  {
   "cell_type": "code",
   "execution_count": 0,
   "metadata": {
    "application/vnd.databricks.v1+cell": {
     "cellMetadata": {
      "byteLimit": 2048000,
      "rowLimit": 10000
     },
     "inputWidgets": {},
     "nuid": "e2521f5c-1dd5-4449-aa80-3af51275d168",
     "showTitle": false,
     "tableResultSettingsMap": {},
     "title": ""
    }
   },
   "outputs": [],
   "source": [
    "access_key = 'xxxxxxxxx'\n",
    "secret_key = 'xxxxxxxx'\n",
    "aws_region = \"us-east-2\""
   ]
  },
  {
   "cell_type": "code",
   "execution_count": 0,
   "metadata": {
    "application/vnd.databricks.v1+cell": {
     "cellMetadata": {
      "byteLimit": 2048000,
      "rowLimit": 10000
     },
     "inputWidgets": {},
     "nuid": "62976d70-92ca-46d7-ae12-c0d7030b5f74",
     "showTitle": false,
     "tableResultSettingsMap": {},
     "title": ""
    }
   },
   "outputs": [
    {
     "output_type": "display_data",
     "data": {
      "application/vnd.databricks.v1+bamboolib_hint": "{\"pd.DataFrames\": [], \"version\": \"0.0.1\"}",
      "text/plain": []
     },
     "metadata": {},
     "output_type": "display_data"
    }
   ],
   "source": [
    "import time\n",
    "import pandas as pd\n",
    "\n",
    "# Configurar acesso ao S3\n",
    "import boto3\n",
    "from io import StringIO"
   ]
  },
  {
   "cell_type": "code",
   "execution_count": 0,
   "metadata": {
    "application/vnd.databricks.v1+cell": {
     "cellMetadata": {
      "byteLimit": 2048000,
      "rowLimit": 10000
     },
     "inputWidgets": {},
     "nuid": "7671c5ef-8f90-447c-b98b-b96402ad7754",
     "showTitle": false,
     "tableResultSettingsMap": {},
     "title": ""
    }
   },
   "outputs": [],
   "source": [
    "# Inicializar o cliente S3\n",
    "s3_client = boto3.client(\n",
    "    's3',\n",
    "    aws_access_key_id=access_key,\n",
    "    aws_secret_access_key=secret_key,\n",
    "    region_name=aws_region\n",
    ")\n"
   ]
  },
  {
   "cell_type": "code",
   "execution_count": 0,
   "metadata": {
    "application/vnd.databricks.v1+cell": {
     "cellMetadata": {
      "byteLimit": 2048000,
      "rowLimit": 10000
     },
     "inputWidgets": {},
     "nuid": "89237a26-098a-4898-bc3f-516ed8d9ceed",
     "showTitle": false,
     "tableResultSettingsMap": {},
     "title": ""
    }
   },
   "outputs": [],
   "source": [
    "# Ler o arquivo CSV diretamente do S3\n",
    "bucket_name = \"financial-dataset-ada\"\n",
    "file_key = \"transactions_data.csv\"\n",
    "response = s3_client.get_object(Bucket=bucket_name, Key=file_key)\n",
    "file_content = response[\"Body\"].read().decode(\"utf-8\")"
   ]
  },
  {
   "cell_type": "code",
   "execution_count": 0,
   "metadata": {
    "application/vnd.databricks.v1+cell": {
     "cellMetadata": {
      "byteLimit": 2048000,
      "rowLimit": 10000
     },
     "inputWidgets": {},
     "nuid": "9bc1e749-ad87-4929-96ea-4c69feeacd2f",
     "showTitle": false,
     "tableResultSettingsMap": {},
     "title": ""
    }
   },
   "outputs": [],
   "source": [
    "def read_file(file_content):\n",
    "    df = pd.read_csv(StringIO(file_content))\n",
    "    return df"
   ]
  },
  {
   "cell_type": "code",
   "execution_count": 0,
   "metadata": {
    "application/vnd.databricks.v1+cell": {
     "cellMetadata": {
      "byteLimit": 2048000,
      "rowLimit": 10000
     },
     "inputWidgets": {},
     "nuid": "e255e661-6f19-4b50-b069-3d77d7b5ee6a",
     "showTitle": false,
     "tableResultSettingsMap": {},
     "title": ""
    }
   },
   "outputs": [],
   "source": [
    "# Função para medir o tempo de execução\n",
    "def measure_time(func, *args):\n",
    "    start_time = time.time()\n",
    "    result = func(*args)\n",
    "    end_time = time.time()\n",
    "    print(f\"Tempo de execução para {func.__name__}: {end_time - start_time:.4f} segundos\")\n",
    "    return result\n"
   ]
  },
  {
   "cell_type": "code",
   "execution_count": 0,
   "metadata": {
    "application/vnd.databricks.v1+cell": {
     "cellMetadata": {
      "byteLimit": 2048000,
      "rowLimit": 10000
     },
     "inputWidgets": {},
     "nuid": "2c51aac3-718f-4b49-aa6c-f554278025aa",
     "showTitle": false,
     "tableResultSettingsMap": {},
     "title": ""
    }
   },
   "outputs": [],
   "source": [
    "\n",
    "def clean_dataframe(df):\n",
    "    df[\"amount\"] = df[\"amount\"].str.replace(\"$\", \"\", regex=True).astype(float)\n",
    "    df[\"date\"] = pd.to_datetime(df[\"date\"], format=\"%Y-%m-%d %H:%M:%S\")\n",
    "    df[\"use_chip\"] = df[\"use_chip\"].replace({\"Swipe Transaction\": \"False\", \"Online Transaction\": \"True\"})\n",
    "    return df"
   ]
  },
  {
   "cell_type": "code",
   "execution_count": 0,
   "metadata": {
    "application/vnd.databricks.v1+cell": {
     "cellMetadata": {
      "byteLimit": 2048000,
      "rowLimit": 10000
     },
     "inputWidgets": {},
     "nuid": "4889e401-ef67-4e21-86e6-207cf066ac94",
     "showTitle": false,
     "tableResultSettingsMap": {},
     "title": ""
    }
   },
   "outputs": [],
   "source": [
    "def sort_dataframe(df):\n",
    "    return df.sort_values(by=\"amount\", ascending=False)"
   ]
  },
  {
   "cell_type": "code",
   "execution_count": 0,
   "metadata": {
    "application/vnd.databricks.v1+cell": {
     "cellMetadata": {
      "byteLimit": 2048000,
      "rowLimit": 10000
     },
     "inputWidgets": {},
     "nuid": "71693a3f-0cd2-4ffe-b0bd-e48303d2d3c7",
     "showTitle": false,
     "tableResultSettingsMap": {},
     "title": ""
    }
   },
   "outputs": [],
   "source": [
    "# Função para agrupar o DataFrame\n",
    "# Exemplo: Contar quantos cartões de cada marca existem\n",
    "def group_dataframe(df):\n",
    "    return df.groupby(\"card_brand\").size().reset_index(name=\"count\")"
   ]
  },
  {
   "cell_type": "code",
   "execution_count": 0,
   "metadata": {
    "application/vnd.databricks.v1+cell": {
     "cellMetadata": {
      "byteLimit": 2048000,
      "rowLimit": 10000
     },
     "inputWidgets": {},
     "nuid": "3e66df02-41c5-4d63-a2a0-1810865b06c7",
     "showTitle": false,
     "tableResultSettingsMap": {},
     "title": ""
    }
   },
   "outputs": [],
   "source": [
    "def group_dataframe(df):\n",
    "    return df.groupby(\"merchant_state\").size().reset_index(name=\"count\")"
   ]
  },
  {
   "cell_type": "code",
   "execution_count": 0,
   "metadata": {
    "application/vnd.databricks.v1+cell": {
     "cellMetadata": {
      "byteLimit": 2048000,
      "rowLimit": 10000
     },
     "inputWidgets": {},
     "nuid": "023d7894-c1c6-43e3-8c6e-159ae75a9f25",
     "showTitle": false,
     "tableResultSettingsMap": {},
     "title": ""
    }
   },
   "outputs": [],
   "source": [
    "# Função para filtrar o DataFrame\n",
    "def filter_dataframe(df):\n",
    "    return df[(df[\"use_chip\"] == \"True\") & (df[\"amount\"] > 100)]"
   ]
  },
  {
   "cell_type": "code",
   "execution_count": 0,
   "metadata": {
    "application/vnd.databricks.v1+cell": {
     "cellMetadata": {
      "byteLimit": 2048000,
      "rowLimit": 10000
     },
     "inputWidgets": {},
     "nuid": "6ae70f04-b483-4db9-8c3d-4ea0ee369b6a",
     "showTitle": false,
     "tableResultSettingsMap": {},
     "title": ""
    }
   },
   "outputs": [],
   "source": [
    "def salvar_to_csv(df):\n",
    "    df.to_csv('output.csv')"
   ]
  },
  {
   "cell_type": "code",
   "execution_count": 0,
   "metadata": {
    "application/vnd.databricks.v1+cell": {
     "cellMetadata": {
      "byteLimit": 2048000,
      "rowLimit": 10000
     },
     "inputWidgets": {},
     "nuid": "6f403447-a4bd-4adc-8f98-4963c3ec6f22",
     "showTitle": false,
     "tableResultSettingsMap": {},
     "title": ""
    }
   },
   "outputs": [],
   "source": [
    "# Função para salvar o DataFrame\n",
    "def save_file(df, path):\n",
    "    df.to_csv(path, index=False)\n"
   ]
  },
  {
   "cell_type": "code",
   "execution_count": 0,
   "metadata": {
    "application/vnd.databricks.v1+cell": {
     "cellMetadata": {
      "byteLimit": 2048000,
      "rowLimit": 10000
     },
     "inputWidgets": {},
     "nuid": "4ee184ec-4b35-400a-93d6-255ab56f5b0f",
     "showTitle": false,
     "tableResultSettingsMap": {},
     "title": ""
    }
   },
   "outputs": [
    {
     "output_type": "stream",
     "name": "stdout",
     "output_type": "stream",
     "text": [
      "Tempo de execução para read_file: 42.2062 segundos\nTempo de execução para clean_dataframe: 18.4669 segundos\nTempo de execução para sort_dataframe: 7.1148 segundos\nTempo de execução para group_dataframe: 1.1413 segundos\nTempo de execução para filter_dataframe: 2.1660 segundos\nTempo de execução para save_file: 64.7187 segundos\nDados originais:\n        id                date  client_id  card_id  amount use_chip  \\\n0  7475327 2010-01-01 00:01:00       1556     2972  -77.00    False   \n1  7475328 2010-01-01 00:02:00        561     4575   14.57    False   \n2  7475329 2010-01-01 00:02:00       1129      102   80.00    False   \n3  7475331 2010-01-01 00:05:00        430     2860  200.00    False   \n4  7475332 2010-01-01 00:06:00        848     3915   46.41    False   \n\n   merchant_id merchant_city merchant_state      zip   mcc errors  \n0        59935        Beulah             ND  58523.0  5499    NaN  \n1        67570    Bettendorf             IA  52722.0  5311    NaN  \n2        27092         Vista             CA  92084.0  4829    NaN  \n3        27092   Crown Point             IN  46307.0  4829    NaN  \n4        13051       Harwood             MD  20776.0  5813    NaN  \nDados limpos:\n        id                date  client_id  card_id  amount use_chip  \\\n0  7475327 2010-01-01 00:01:00       1556     2972  -77.00    False   \n1  7475328 2010-01-01 00:02:00        561     4575   14.57    False   \n2  7475329 2010-01-01 00:02:00       1129      102   80.00    False   \n3  7475331 2010-01-01 00:05:00        430     2860  200.00    False   \n4  7475332 2010-01-01 00:06:00        848     3915   46.41    False   \n\n   merchant_id merchant_city merchant_state      zip   mcc errors  \n0        59935        Beulah             ND  58523.0  5499    NaN  \n1        67570    Bettendorf             IA  52722.0  5311    NaN  \n2        27092         Vista             CA  92084.0  4829    NaN  \n3        27092   Crown Point             IN  46307.0  4829    NaN  \n4        13051       Harwood             MD  20776.0  5813    NaN  \nDados ordenados:\n                id                date  client_id  card_id   amount use_chip  \\\n892174     8544734 2010-09-22 06:37:00        708     5165  6820.20    False   \n12248570  22453398 2019-01-27 17:52:00       1081     3427  6613.44     True   \n2888921   10973185 2012-04-10 11:05:00       1259     5406  5913.37    False   \n4373878   12783563 2013-05-22 17:28:00       1487     4946  5813.78     True   \n6314617   15155601 2014-10-24 13:11:00        278     5619  5696.78     True   \n\n          merchant_id  merchant_city merchant_state      zip   mcc errors  \n892174          34524  Staten Island             NY  10302.0  5712    NaN  \n12248570         9026         ONLINE            NaN      NaN  4411    NaN  \n2888921         85983         Wilton             CT   6897.0  5932    NaN  \n4373878          9026         ONLINE            NaN      NaN  4411    NaN  \n6314617          7202         ONLINE            NaN      NaN  4411    NaN  \nDados agrupados:\n  merchant_state   count\n0             AA       6\n1             AK    7581\n2             AL  177266\n3             AR  112901\n4             AZ  195940\nDados filtrados:\n          id                date  client_id  card_id  amount use_chip  \\\n8    7475336 2010-01-01 00:21:00        335     5131  261.58     True   \n35   7475365 2010-01-01 01:01:00        820      127  270.22     True   \n64   7475401 2010-01-01 01:54:00       1449      241  119.23     True   \n146  7475494 2010-01-01 04:21:00        103     5113  166.34     True   \n170  7475520 2010-01-01 05:05:00       1102     2822  185.60     True   \n\n     merchant_id merchant_city merchant_state  zip   mcc errors  \n8          50292        ONLINE            NaN  NaN  7801    NaN  \n35         73186        ONLINE            NaN  NaN  4814    NaN  \n64         87530        ONLINE            NaN  NaN  4900    NaN  \n146        56276        ONLINE            NaN  NaN  4899    NaN  \n170        80770        ONLINE            NaN  NaN  7922    NaN  \n"
     ]
    }
   ],
   "source": [
    "output_path = 'output_path3.csv'\n",
    "\n",
    "# Aplicar as transformações com medição de tempo\n",
    "df = measure_time(read_file, file_content)\n",
    "df_cleaned = measure_time(clean_dataframe, df)\n",
    "df_sorted = measure_time(sort_dataframe, df_cleaned)\n",
    "df_grouped = measure_time(group_dataframe, df_cleaned)\n",
    "df_filtered = measure_time(filter_dataframe, df_cleaned)\n",
    "measure_time(save_file, df_cleaned, output_path)\n",
    "\n",
    "# Mostrar os resultados\n",
    "print(\"Dados originais:\")\n",
    "print(df.head())\n",
    "\n",
    "print(\"Dados limpos:\")\n",
    "print(df_cleaned.head())\n",
    "\n",
    "print(\"Dados ordenados:\")\n",
    "print(df_sorted.head())\n",
    "\n",
    "print(\"Dados agrupados:\")\n",
    "print(df_grouped.head())\n",
    "\n",
    "print(\"Dados filtrados:\")\n",
    "print(df_filtered.head())"
   ]
  }
 ],
 "metadata": {
  "application/vnd.databricks.v1+notebook": {
   "dashboards": [],
   "environmentMetadata": null,
   "language": "python",
   "notebookMetadata": {
    "pythonIndentUnit": 4
   },
   "notebookName": "projeto-big-data-pandas-large-v1",
   "widgets": {}
  }
 },
 "nbformat": 4,
 "nbformat_minor": 0
}
