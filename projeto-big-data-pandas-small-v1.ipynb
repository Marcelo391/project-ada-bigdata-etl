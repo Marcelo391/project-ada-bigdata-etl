{
 "cells": [
  {
   "cell_type": "code",
   "execution_count": 0,
   "metadata": {
    "application/vnd.databricks.v1+cell": {
     "cellMetadata": {
      "byteLimit": 2048000,
      "rowLimit": 10000
     },
     "inputWidgets": {},
     "nuid": "e2521f5c-1dd5-4449-aa80-3af51275d168",
     "showTitle": false,
     "tableResultSettingsMap": {},
     "title": ""
    }
   },
   "outputs": [],
   "source": [
    "access_key = 'xxxxxxx'\n",
    "secret_key = 'xxx+xxxxxxxxxxxxxxxxx'\n",
    "aws_region = \"us-east-2\""
   ]
  },
  {
   "cell_type": "code",
   "execution_count": 0,
   "metadata": {
    "application/vnd.databricks.v1+cell": {
     "cellMetadata": {
      "byteLimit": 2048000,
      "rowLimit": 10000
     },
     "inputWidgets": {},
     "nuid": "62976d70-92ca-46d7-ae12-c0d7030b5f74",
     "showTitle": false,
     "tableResultSettingsMap": {},
     "title": ""
    }
   },
   "outputs": [],
   "source": [
    "import time\n",
    "import pandas as pd\n",
    "\n",
    "# Configurar acesso ao S3\n",
    "import boto3\n",
    "from io import StringIO"
   ]
  },
  {
   "cell_type": "code",
   "execution_count": 0,
   "metadata": {
    "application/vnd.databricks.v1+cell": {
     "cellMetadata": {
      "byteLimit": 2048000,
      "rowLimit": 10000
     },
     "inputWidgets": {},
     "nuid": "7671c5ef-8f90-447c-b98b-b96402ad7754",
     "showTitle": false,
     "tableResultSettingsMap": {},
     "title": ""
    }
   },
   "outputs": [],
   "source": [
    "# Inicializar o cliente S3\n",
    "s3_client = boto3.client(\n",
    "    's3',\n",
    "    aws_access_key_id=access_key,\n",
    "    aws_secret_access_key=secret_key,\n",
    "    region_name=aws_region\n",
    ")\n"
   ]
  },
  {
   "cell_type": "code",
   "execution_count": 0,
   "metadata": {
    "application/vnd.databricks.v1+cell": {
     "cellMetadata": {
      "byteLimit": 2048000,
      "rowLimit": 10000
     },
     "inputWidgets": {},
     "nuid": "89237a26-098a-4898-bc3f-516ed8d9ceed",
     "showTitle": false,
     "tableResultSettingsMap": {},
     "title": ""
    }
   },
   "outputs": [],
   "source": [
    "# Ler o arquivo CSV diretamente do S3\n",
    "bucket_name = \"financial-dataset-ada\"\n",
    "file_key = \"cards_data.csv\"\n",
    "response = s3_client.get_object(Bucket=bucket_name, Key=file_key)\n",
    "file_content = response[\"Body\"].read().decode(\"utf-8\")"
   ]
  },
  {
   "cell_type": "code",
   "execution_count": 0,
   "metadata": {
    "application/vnd.databricks.v1+cell": {
     "cellMetadata": {
      "byteLimit": 2048000,
      "rowLimit": 10000
     },
     "inputWidgets": {},
     "nuid": "9bc1e749-ad87-4929-96ea-4c69feeacd2f",
     "showTitle": false,
     "tableResultSettingsMap": {},
     "title": ""
    }
   },
   "outputs": [],
   "source": [
    "def read_file(file_content):\n",
    "    df = pd.read_csv(StringIO(file_content))\n",
    "    return df"
   ]
  },
  {
   "cell_type": "code",
   "execution_count": 0,
   "metadata": {
    "application/vnd.databricks.v1+cell": {
     "cellMetadata": {
      "byteLimit": 2048000,
      "rowLimit": 10000
     },
     "inputWidgets": {},
     "nuid": "e255e661-6f19-4b50-b069-3d77d7b5ee6a",
     "showTitle": false,
     "tableResultSettingsMap": {},
     "title": ""
    }
   },
   "outputs": [],
   "source": [
    "# Função para medir o tempo de execução\n",
    "def measure_time(func, *args):\n",
    "    start_time = time.time()\n",
    "    result = func(*args)\n",
    "    end_time = time.time()\n",
    "    print(f\"Tempo de execução para {func.__name__}: {end_time - start_time:.4f} segundos\")\n",
    "    return result\n"
   ]
  },
  {
   "cell_type": "code",
   "execution_count": 0,
   "metadata": {
    "application/vnd.databricks.v1+cell": {
     "cellMetadata": {
      "byteLimit": 2048000,
      "rowLimit": 10000
     },
     "inputWidgets": {},
     "nuid": "2c51aac3-718f-4b49-aa6c-f554278025aa",
     "showTitle": false,
     "tableResultSettingsMap": {},
     "title": ""
    }
   },
   "outputs": [],
   "source": [
    "# Função para corrigir tipos e substituir dados\n",
    "def clean_dataframe(df):\n",
    "    df[\"has_chip\"] = df[\"has_chip\"].replace({\"YES\": True, \"NO\": False})\n",
    "    df[\"credit_limit\"] = df[\"credit_limit\"].str.replace(\"$\", \"\").astype(int)\n",
    "    df[\"expires\"] = pd.to_datetime(df[\"expires\"], format=\"%m/%Y\", errors=\"coerce\")\n",
    "    df[\"acct_open_date\"] = pd.to_datetime(df[\"acct_open_date\"], format=\"%m/%Y\", errors=\"coerce\")\n",
    "    return df"
   ]
  },
  {
   "cell_type": "code",
   "execution_count": 0,
   "metadata": {
    "application/vnd.databricks.v1+cell": {
     "cellMetadata": {
      "byteLimit": 2048000,
      "rowLimit": 10000
     },
     "inputWidgets": {},
     "nuid": "4889e401-ef67-4e21-86e6-207cf066ac94",
     "showTitle": false,
     "tableResultSettingsMap": {},
     "title": ""
    }
   },
   "outputs": [],
   "source": [
    "\n",
    "# Função para ordenar o DataFrame\n",
    "def sort_dataframe(df):\n",
    "    return df.sort_values(by=\"credit_limit\", ascending=False)"
   ]
  },
  {
   "cell_type": "code",
   "execution_count": 0,
   "metadata": {
    "application/vnd.databricks.v1+cell": {
     "cellMetadata": {
      "byteLimit": 2048000,
      "rowLimit": 10000
     },
     "inputWidgets": {},
     "nuid": "71693a3f-0cd2-4ffe-b0bd-e48303d2d3c7",
     "showTitle": false,
     "tableResultSettingsMap": {},
     "title": ""
    }
   },
   "outputs": [],
   "source": [
    "# Função para agrupar o DataFrame\n",
    "# Exemplo: Contar quantos cartões de cada marca existem\n",
    "def group_dataframe(df):\n",
    "    return df.groupby(\"card_brand\").size().reset_index(name=\"count\")"
   ]
  },
  {
   "cell_type": "code",
   "execution_count": 0,
   "metadata": {
    "application/vnd.databricks.v1+cell": {
     "cellMetadata": {
      "byteLimit": 2048000,
      "rowLimit": 10000
     },
     "inputWidgets": {},
     "nuid": "3e66df02-41c5-4d63-a2a0-1810865b06c7",
     "showTitle": false,
     "tableResultSettingsMap": {},
     "title": ""
    }
   },
   "outputs": [],
   "source": [
    "# Função para filtrar o DataFrame\n",
    "# Exemplo: Filtrar cartões que estão na dark web e têm chip\n",
    "def filter_dataframe(df):\n",
    "    return df[(df[\"card_on_dark_web\"] == \"No\") & (df[\"has_chip\"] == True)]"
   ]
  },
  {
   "cell_type": "code",
   "execution_count": 0,
   "metadata": {
    "application/vnd.databricks.v1+cell": {
     "cellMetadata": {
      "byteLimit": 2048000,
      "rowLimit": 10000
     },
     "inputWidgets": {},
     "nuid": "6ae70f04-b483-4db9-8c3d-4ea0ee369b6a",
     "showTitle": false,
     "tableResultSettingsMap": {},
     "title": ""
    }
   },
   "outputs": [],
   "source": [
    "def salvar_to_csv(df):\n",
    "    df.to_csv('output.csv')"
   ]
  },
  {
   "cell_type": "code",
   "execution_count": 0,
   "metadata": {
    "application/vnd.databricks.v1+cell": {
     "cellMetadata": {
      "byteLimit": 2048000,
      "rowLimit": 10000
     },
     "inputWidgets": {},
     "nuid": "3eb5b6a4-6203-4755-934d-3bd4c139502b",
     "showTitle": false,
     "tableResultSettingsMap": {},
     "title": ""
    }
   },
   "outputs": [
    {
     "output_type": "stream",
     "name": "stdout",
     "output_type": "stream",
     "text": [
      "<class 'pandas.core.frame.DataFrame'>\nRangeIndex: 6146 entries, 0 to 6145\nData columns (total 13 columns):\n #   Column                 Non-Null Count  Dtype         \n---  ------                 --------------  -----         \n 0   id                     6146 non-null   int64         \n 1   client_id              6146 non-null   int64         \n 2   card_brand             6146 non-null   object        \n 3   card_type              6146 non-null   object        \n 4   card_number            6146 non-null   int64         \n 5   expires                6146 non-null   datetime64[ns]\n 6   cvv                    6146 non-null   int64         \n 7   has_chip               6146 non-null   bool          \n 8   num_cards_issued       6146 non-null   int64         \n 9   credit_limit           6146 non-null   int64         \n 10  acct_open_date         6146 non-null   datetime64[ns]\n 11  year_pin_last_changed  6146 non-null   int64         \n 12  card_on_dark_web       6146 non-null   object        \ndtypes: bool(1), datetime64[ns](2), int64(7), object(3)\nmemory usage: 582.3+ KB\n"
     ]
    }
   ],
   "source": [
    "df.info()"
   ]
  },
  {
   "cell_type": "code",
   "execution_count": 0,
   "metadata": {
    "application/vnd.databricks.v1+cell": {
     "cellMetadata": {
      "byteLimit": 2048000,
      "rowLimit": 10000
     },
     "inputWidgets": {},
     "nuid": "a5386a82-2483-4555-93bd-d50b786e1f9a",
     "showTitle": false,
     "tableResultSettingsMap": {},
     "title": ""
    }
   },
   "outputs": [
    {
     "output_type": "stream",
     "name": "stdout",
     "output_type": "stream",
     "text": [
      "<class 'pandas.core.frame.DataFrame'>\nRangeIndex: 6146 entries, 0 to 6145\nData columns (total 13 columns):\n #   Column                 Non-Null Count  Dtype \n---  ------                 --------------  ----- \n 0   id                     6146 non-null   int64 \n 1   client_id              6146 non-null   int64 \n 2   card_brand             6146 non-null   object\n 3   card_type              6146 non-null   object\n 4   card_number            6146 non-null   int64 \n 5   expires                6146 non-null   object\n 6   cvv                    6146 non-null   int64 \n 7   has_chip               6146 non-null   object\n 8   num_cards_issued       6146 non-null   int64 \n 9   credit_limit           6146 non-null   object\n 10  acct_open_date         6146 non-null   object\n 11  year_pin_last_changed  6146 non-null   int64 \n 12  card_on_dark_web       6146 non-null   object\ndtypes: int64(6), object(7)\nmemory usage: 624.3+ KB\nTempo de execução para read_dataframe: 0.0229 segundos\nTempo de execução para clean_dataframe: 0.0265 segundos\nTempo de execução para sort_dataframe: 0.0013 segundos\nTempo de execução para group_dataframe: 0.0020 segundos\nTempo de execução para filter_dataframe: 0.0030 segundos\n"
     ]
    },
    {
     "output_type": "stream",
     "name": "stderr",
     "output_type": "stream",
     "text": [
      "<command-1706589556470364>:4: FutureWarning: The default value of regex will change from True to False in a future version. In addition, single character regular expressions will *not* be treated as literal strings when regex=True.\n  df[\"credit_limit\"] = df[\"credit_limit\"].str.replace(\"$\", \"\").astype(int)\n"
     ]
    },
    {
     "output_type": "stream",
     "name": "stdout",
     "output_type": "stream",
     "text": [
      "Tempo de execução para salvar_to_csv: 0.1937 segundos\n"
     ]
    }
   ],
   "source": [
    "# Aplicar as transformações com medição de tempo\n",
    "df = measure_time(read_dataframe)\n",
    "df_cleaned = measure_time(clean_dataframe, df)\n",
    "df_sorted = measure_time(sort_dataframe, df_cleaned)\n",
    "df_grouped = measure_time(group_dataframe, df_cleaned)\n",
    "df_filtered = measure_time(filter_dataframe, df_cleaned)\n",
    "df_save = measure_time(salvar_to_csv, df)"
   ]
  },
  {
   "cell_type": "code",
   "execution_count": 0,
   "metadata": {
    "application/vnd.databricks.v1+cell": {
     "cellMetadata": {
      "byteLimit": 2048000,
      "rowLimit": 10000
     },
     "inputWidgets": {},
     "nuid": "fab654f9-a8fa-44c5-9289-58fb02505037",
     "showTitle": false,
     "tableResultSettingsMap": {},
     "title": ""
    }
   },
   "outputs": [
    {
     "output_type": "stream",
     "name": "stdout",
     "output_type": "stream",
     "text": [
      "Cleaned DataFrame:\n        id  client_id  card_brand        card_type       card_number  \\\n0     4524        825        Visa            Debit  4344676511950444   \n1     2731        825        Visa            Debit  4956965974959986   \n2     3701        825        Visa            Debit  4582313478255491   \n3       42        825        Visa           Credit  4879494103069057   \n4     4659        825  Mastercard  Debit (Prepaid)  5722874738736011   \n...    ...        ...         ...              ...               ...   \n6141  5361        185        Amex           Credit   300609782832003   \n6142  2711        185        Visa           Credit  4718517475996018   \n6143  1305       1007  Mastercard           Credit  5929512204765914   \n6144   743       1110  Mastercard            Debit  5589768928167462   \n6145  3199       1110        Visa           Credit  4994011318343994   \n\n        expires  cvv  has_chip  num_cards_issued  credit_limit acct_open_date  \\\n0    2022-12-01  623      True                 2         24295     2002-09-01   \n1    2020-12-01  393      True                 2         21968     2014-04-01   \n2    2024-02-01  719      True                 2         46414     2003-07-01   \n3    2024-08-01  693     False                 1         12400     2003-01-01   \n4    2009-03-01   75      True                 1            28     2008-09-01   \n...         ...  ...       ...               ...           ...            ...   \n6141 2024-01-01  663      True                 1          6900     2000-11-01   \n6142 2021-01-01  492      True                 2          5700     2012-04-01   \n6143 2020-08-01  237     False                 2          9200     2012-02-01   \n6144 2020-01-01  630      True                 1         28074     2020-01-01   \n6145 2020-12-01  120      True                 1         14400     2017-05-01   \n\n      year_pin_last_changed card_on_dark_web  \n0                      2008               No  \n1                      2014               No  \n2                      2004               No  \n3                      2012               No  \n4                      2009               No  \n...                     ...              ...  \n6141                   2013               No  \n6142                   2012               No  \n6143                   2012               No  \n6144                   2020               No  \n6145                   2017               No  \n\n[6146 rows x 13 columns]\n\nSorted DataFrame:\n        id  client_id  card_brand card_type       card_number    expires  cvv  \\\n1442  4128       1156  Mastercard     Debit  5843025504634580 2009-12-01  568   \n2079  3289       1259  Mastercard     Debit  5681560415834998 2021-04-01  699   \n5421  6016        278  Mastercard     Debit  5601819028761095 2023-05-01  832   \n17    5621        708        Visa     Debit  4032240655674503 2022-06-01   53   \n3776  2828        944  Mastercard     Debit  5043143066698540 2020-09-01  288   \n...    ...        ...         ...       ...               ...        ...  ...   \n221   4318        668  Mastercard    Credit  5764603958082866 2021-08-01  397   \n5303  4334       1514  Mastercard    Credit  5052545011580809 2020-07-01  940   \n2405  3182         15        Visa    Credit  4885936439907966 2020-06-01  161   \n4245  2707        132        Visa    Credit  4832180811213555 2021-01-01  231   \n5208  3086       1348        Amex    Credit   313148408217973 2021-10-01  576   \n\n      has_chip  num_cards_issued  credit_limit acct_open_date  \\\n1442      True                 1        151223     2004-08-01   \n2079      True                 2        141391     2005-06-01   \n5421     False                 1        137669     2010-12-01   \n17        True                 1        132439     2010-11-01   \n3776      True                 2        130971     2002-05-01   \n...        ...               ...           ...            ...   \n221       True                 1             0     2010-08-01   \n5303     False                 1             0     2010-08-01   \n2405      True                 1             0     2016-05-01   \n4245      True                 2             0     2012-04-01   \n5208      True                 2             0     2011-05-01   \n\n      year_pin_last_changed card_on_dark_web  \n1442                   2009               No  \n2079                   2005               No  \n5421                   2010               No  \n17                     2011               No  \n3776                   2010               No  \n...                     ...              ...  \n221                    2010               No  \n5303                   2010               No  \n2405                   2016               No  \n4245                   2012               No  \n5208                   2011               No  \n\n[6146 rows x 13 columns]\n\nGrouped DataFrame:\n   card_brand  count\n0        Amex    402\n1    Discover    209\n2  Mastercard   3209\n3        Visa   2326\n\nFiltered DataFrame:\n        id  client_id  card_brand        card_type       card_number  \\\n0     4524        825        Visa            Debit  4344676511950444   \n1     2731        825        Visa            Debit  4956965974959986   \n2     3701        825        Visa            Debit  4582313478255491   \n4     4659        825  Mastercard  Debit (Prepaid)  5722874738736011   \n5     4537       1746        Visa           Credit  4404898874682993   \n...    ...        ...         ...              ...               ...   \n6140  4046        185  Mastercard            Debit  5916545236079509   \n6141  5361        185        Amex           Credit   300609782832003   \n6142  2711        185        Visa           Credit  4718517475996018   \n6144   743       1110  Mastercard            Debit  5589768928167462   \n6145  3199       1110        Visa           Credit  4994011318343994   \n\n        expires  cvv  has_chip  num_cards_issued  credit_limit acct_open_date  \\\n0    2022-12-01  623      True                 2         24295     2002-09-01   \n1    2020-12-01  393      True                 2         21968     2014-04-01   \n2    2024-02-01  719      True                 2         46414     2003-07-01   \n4    2009-03-01   75      True                 1            28     2008-09-01   \n5    2003-09-01  736      True                 1         27500     2003-09-01   \n...         ...  ...       ...               ...           ...            ...   \n6140 2024-07-01  314      True                 1         16415     2016-07-01   \n6141 2024-01-01  663      True                 1          6900     2000-11-01   \n6142 2021-01-01  492      True                 2          5700     2012-04-01   \n6144 2020-01-01  630      True                 1         28074     2020-01-01   \n6145 2020-12-01  120      True                 1         14400     2017-05-01   \n\n      year_pin_last_changed card_on_dark_web  \n0                      2008               No  \n1                      2014               No  \n2                      2004               No  \n4                      2009               No  \n5                      2012               No  \n...                     ...              ...  \n6140                   2016               No  \n6141                   2013               No  \n6142                   2012               No  \n6144                   2020               No  \n6145                   2017               No  \n\n[5500 rows x 13 columns]\n"
     ]
    }
   ],
   "source": [
    "# Mostrar os resultados\n",
    "print(\"Cleaned DataFrame:\")\n",
    "print(df_cleaned)\n",
    "\n",
    "print(\"\\nSorted DataFrame:\")\n",
    "print(df_sorted)\n",
    "\n",
    "print(\"\\nGrouped DataFrame:\")\n",
    "print(df_grouped)\n",
    "\n",
    "print(\"\\nFiltered DataFrame:\")\n",
    "print(df_filtered)\n"
   ]
  }
 ],
 "metadata": {
  "application/vnd.databricks.v1+notebook": {
   "dashboards": [],
   "environmentMetadata": null,
   "language": "python",
   "notebookMetadata": {
    "pythonIndentUnit": 4
   },
   "notebookName": "projeto-big-data-pandas-small-v1",
   "widgets": {}
  }
 },
 "nbformat": 4,
 "nbformat_minor": 0
}
