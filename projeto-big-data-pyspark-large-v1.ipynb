{
 "cells": [
  {
   "cell_type": "code",
   "execution_count": 0,
   "metadata": {
    "application/vnd.databricks.v1+cell": {
     "cellMetadata": {
      "byteLimit": 2048000,
      "rowLimit": 10000
     },
     "inputWidgets": {},
     "nuid": "e2521f5c-1dd5-4449-aa80-3af51275d168",
     "showTitle": false,
     "tableResultSettingsMap": {},
     "title": ""
    }
   },
   "outputs": [],
   "source": [
    "##\n",
    "access_key = 'xxxxxxx'\n",
    "secret_key = 'xxxxxxxxxxxxxx'\n",
    "sc._jsc.hadoopConfiguration().set(\"fs.s3a.access.key\", access_key)\n",
    "sc._jsc.hadoopConfiguration().set(\"fs.s3a.secret.key\", secret_key)\n",
    "\n",
    "# If you are using Auto Loader file notification mode to load files, provide the AWS Region ID.\n",
    "aws_region = \"us-east-2\"\n",
    "sc._jsc.hadoopConfiguration().set(\"fs.s3a.endpoint\", \"s3.\" + aws_region + \".amazonaws.com\")\n",
    "\n"
   ]
  },
  {
   "cell_type": "code",
   "execution_count": 0,
   "metadata": {
    "application/vnd.databricks.v1+cell": {
     "cellMetadata": {
      "byteLimit": 2048000,
      "rowLimit": 10000
     },
     "inputWidgets": {},
     "nuid": "790f4ef4-9e3e-4100-9d1a-ae94db0fb903",
     "showTitle": false,
     "tableResultSettingsMap": {},
     "title": ""
    }
   },
   "outputs": [],
   "source": [
    "from pyspark.sql import SparkSession\n",
    "from pyspark.sql.functions import col, regexp_replace, to_date"
   ]
  },
  {
   "cell_type": "code",
   "execution_count": 0,
   "metadata": {
    "application/vnd.databricks.v1+cell": {
     "cellMetadata": {
      "byteLimit": 2048000,
      "rowLimit": 10000
     },
     "inputWidgets": {},
     "nuid": "dfa0b471-c7b0-4245-a8e9-62dd02aecd52",
     "showTitle": false,
     "tableResultSettingsMap": {},
     "title": ""
    }
   },
   "outputs": [],
   "source": [
    "def read_file(path):\n",
    "    df = spark.read.csv(path, inferSchema=True, header=True)\n",
    "    return df"
   ]
  },
  {
   "cell_type": "code",
   "execution_count": 0,
   "metadata": {
    "application/vnd.databricks.v1+cell": {
     "cellMetadata": {
      "byteLimit": 2048000,
      "rowLimit": 10000
     },
     "inputWidgets": {},
     "nuid": "a94d9414-3c2a-4a7f-a64f-611b088174e6",
     "showTitle": false,
     "tableResultSettingsMap": {},
     "title": ""
    }
   },
   "outputs": [],
   "source": [
    "# Função para medir o tempo de execução\n",
    "def measure_time(func, *args):\n",
    "    import time\n",
    "    start_time = time.time()\n",
    "    result = func(*args)\n",
    "    end_time = time.time()\n",
    "    print(f\"Tempo de execução para {func.__name__}: {end_time - start_time:.4f} segundos\")\n",
    "    return result"
   ]
  },
  {
   "cell_type": "code",
   "execution_count": 0,
   "metadata": {
    "application/vnd.databricks.v1+cell": {
     "cellMetadata": {
      "byteLimit": 2048000,
      "rowLimit": 10000
     },
     "inputWidgets": {},
     "nuid": "e16a643d-a0ce-490f-a062-ef13368d3c35",
     "showTitle": false,
     "tableResultSettingsMap": {},
     "title": ""
    }
   },
   "outputs": [],
   "source": [
    "# Função para limpar os dados\n",
    "def clean_dataframe(df):\n",
    "    df = df.withColumn(\"amount\", regexp_replace(col(\"amount\"), \"\\\\$\", \"\").cast(\"double\"))\n",
    "    df = df.withColumn(\"date\", to_date(col(\"date\"), \"yyyy-MM-dd HH:mm:ss\"))\n",
    "    df = df.withColumn(\"use_chip\", regexp_replace(col(\"use_chip\"), \"Swipe Transaction\", \"False\"))\n",
    "    df = df.withColumn(\"use_chip\", regexp_replace(col(\"use_chip\"), \"Online Transaction\", \"True\"))\n",
    "    return df"
   ]
  },
  {
   "cell_type": "code",
   "execution_count": 0,
   "metadata": {
    "application/vnd.databricks.v1+cell": {
     "cellMetadata": {
      "byteLimit": 2048000,
      "rowLimit": 10000
     },
     "inputWidgets": {},
     "nuid": "59049477-8cac-440a-adbb-7792b497d140",
     "showTitle": false,
     "tableResultSettingsMap": {},
     "title": ""
    }
   },
   "outputs": [],
   "source": [
    "# Função para ordenar o DataFrame\n",
    "def sort_dataframe(df):\n",
    "    return df.orderBy(col(\"amount\").desc())"
   ]
  },
  {
   "cell_type": "code",
   "execution_count": 0,
   "metadata": {
    "application/vnd.databricks.v1+cell": {
     "cellMetadata": {
      "byteLimit": 2048000,
      "rowLimit": 10000
     },
     "inputWidgets": {},
     "nuid": "46040a8e-b3b9-41ec-b800-81352a67c69c",
     "showTitle": false,
     "tableResultSettingsMap": {},
     "title": ""
    }
   },
   "outputs": [],
   "source": [
    "# Função para agrupar o DataFrame\n",
    "# Exemplo: Contar o número de transações por estado do comerciante\n",
    "def group_dataframe(df):\n",
    "    return df.groupBy(\"merchant_state\").count()"
   ]
  },
  {
   "cell_type": "code",
   "execution_count": 0,
   "metadata": {
    "application/vnd.databricks.v1+cell": {
     "cellMetadata": {
      "byteLimit": 2048000,
      "rowLimit": 10000
     },
     "inputWidgets": {},
     "nuid": "89854794-eb5b-4231-82bb-6230f188f9dd",
     "showTitle": false,
     "tableResultSettingsMap": {},
     "title": ""
    }
   },
   "outputs": [],
   "source": [
    "# Função para filtrar o DataFrame\n",
    "# Exemplo: Filtrar transações online com valor acima de 100\n",
    "def filter_dataframe(df):\n",
    "    return df.filter((col(\"use_chip\") == \"True\") & (col(\"amount\") > 100))"
   ]
  },
  {
   "cell_type": "code",
   "execution_count": 0,
   "metadata": {
    "application/vnd.databricks.v1+cell": {
     "cellMetadata": {
      "byteLimit": 2048000,
      "rowLimit": 10000
     },
     "inputWidgets": {},
     "nuid": "0df029f6-76e7-42d8-ad21-799053afd853",
     "showTitle": false,
     "tableResultSettingsMap": {},
     "title": ""
    }
   },
   "outputs": [],
   "source": [
    "# Função para salvar o DataFrame\n",
    "def save_file(df):\n",
    "    return df.write.option(\"header\", True).csv('output_path_large.csv')"
   ]
  },
  {
   "cell_type": "code",
   "execution_count": 0,
   "metadata": {
    "application/vnd.databricks.v1+cell": {
     "cellMetadata": {
      "byteLimit": 2048000,
      "rowLimit": 10000
     },
     "inputWidgets": {},
     "nuid": "a408e390-da7a-4313-95b2-e528b34b53e2",
     "showTitle": false,
     "tableResultSettingsMap": {},
     "title": ""
    }
   },
   "outputs": [
    {
     "output_type": "stream",
     "name": "stdout",
     "output_type": "stream",
     "text": [
      "Tempo de execução para read_file: 34.0868 segundos\nTempo de execução para clean_dataframe: 0.0975 segundos\nTempo de execução para sort_dataframe: 0.0128 segundos\nTempo de execução para group_dataframe: 0.0134 segundos\nTempo de execução para filter_dataframe: 0.0190 segundos\nTempo de execução para save_file: 108.4828 segundos\n"
     ]
    }
   ],
   "source": [
    "# Aplicar as transformações com medição de tempo\n",
    "df = measure_time(read_file, 's3a://financial-dataset-ada/transactions_data.csv')\n",
    "df_cleaned = measure_time(clean_dataframe, df)\n",
    "df_sorted = measure_time(sort_dataframe, df_cleaned)\n",
    "df_grouped = measure_time(group_dataframe, df_cleaned)\n",
    "df_filtered = measure_time(filter_dataframe, df_cleaned)\n",
    "df_save = measure_time(save_file, df_cleaned)"
   ]
  },
  {
   "cell_type": "code",
   "execution_count": 0,
   "metadata": {
    "application/vnd.databricks.v1+cell": {
     "cellMetadata": {
      "byteLimit": 2048000,
      "rowLimit": 10000
     },
     "inputWidgets": {},
     "nuid": "776bb0d3-23a2-4362-8d20-8eef89e53958",
     "showTitle": false,
     "tableResultSettingsMap": {},
     "title": ""
    }
   },
   "outputs": [
    {
     "output_type": "stream",
     "name": "stdout",
     "output_type": "stream",
     "text": [
      "+-------+-------------------+---------+-------+-------+------------------+-----------+---------------+--------------+-------+----+------+\n|     id|               date|client_id|card_id| amount|          use_chip|merchant_id|  merchant_city|merchant_state|    zip| mcc|errors|\n+-------+-------------------+---------+-------+-------+------------------+-----------+---------------+--------------+-------+----+------+\n|7475327|2010-01-01 00:01:00|     1556|   2972|$-77.00| Swipe Transaction|      59935|         Beulah|            ND|58523.0|5499|  null|\n|7475328|2010-01-01 00:02:00|      561|   4575| $14.57| Swipe Transaction|      67570|     Bettendorf|            IA|52722.0|5311|  null|\n|7475329|2010-01-01 00:02:00|     1129|    102| $80.00| Swipe Transaction|      27092|          Vista|            CA|92084.0|4829|  null|\n|7475331|2010-01-01 00:05:00|      430|   2860|$200.00| Swipe Transaction|      27092|    Crown Point|            IN|46307.0|4829|  null|\n|7475332|2010-01-01 00:06:00|      848|   3915| $46.41| Swipe Transaction|      13051|        Harwood|            MD|20776.0|5813|  null|\n|7475333|2010-01-01 00:07:00|     1807|    165|  $4.81| Swipe Transaction|      20519|          Bronx|            NY|10464.0|5942|  null|\n|7475334|2010-01-01 00:09:00|     1556|   2972| $77.00| Swipe Transaction|      59935|         Beulah|            ND|58523.0|5499|  null|\n|7475335|2010-01-01 00:14:00|     1684|   2140| $26.46|Online Transaction|      39021|         ONLINE|          null|   null|4784|  null|\n|7475336|2010-01-01 00:21:00|      335|   5131|$261.58|Online Transaction|      50292|         ONLINE|          null|   null|7801|  null|\n|7475337|2010-01-01 00:21:00|      351|   1112| $10.74| Swipe Transaction|       3864|       Flushing|            NY|11355.0|5813|  null|\n|7475338|2010-01-01 00:23:00|      554|   3912|  $3.51| Swipe Transaction|      67570|       Pearland|            TX|77581.0|5311|  null|\n|7475339|2010-01-01 00:23:00|      605|   5061|  $2.58| Swipe Transaction|      75781|       Brooklyn|            NY|11210.0|5411|  null|\n|7475340|2010-01-01 00:26:00|     1556|   2972| $39.63| Swipe Transaction|      59935|         Beulah|            ND|58523.0|5499|  null|\n|7475341|2010-01-01 00:27:00|     1797|   1127| $43.33| Swipe Transaction|      33326|        Kahului|            HI|96732.0|4121|  null|\n|7475342|2010-01-01 00:30:00|      114|   3398| $49.42| Swipe Transaction|      61195|North Hollywood|            CA|91606.0|5541|  null|\n|7475343|2010-01-01 00:31:00|     1634|   2464|  $1.09| Swipe Transaction|      20519|     San Benito|            TX|78586.0|5942|  null|\n|7475344|2010-01-01 00:32:00|      646|   2093| $73.79| Swipe Transaction|       1636|           Erie|            PA|16511.0|7538|  null|\n|7475345|2010-01-01 00:32:00|     1129|   5492|$100.00| Swipe Transaction|      27092|          Vista|            CA|92084.0|4829|  null|\n|7475346|2010-01-01 00:34:00|      394|   4717| $26.04|Online Transaction|      39021|         ONLINE|          null|   null|4784|  null|\n|7475347|2010-01-01 00:36:00|      114|   3398|$-64.00| Swipe Transaction|      61195|North Hollywood|            CA|91606.0|5541|  null|\n+-------+-------------------+---------+-------+-------+------------------+-----------+---------------+--------------+-------+----+------+\nonly showing top 20 rows\n\n+-------+----------+---------+-------+------+--------+-----------+---------------+--------------+-------+----+------+\n|     id|      date|client_id|card_id|amount|use_chip|merchant_id|  merchant_city|merchant_state|    zip| mcc|errors|\n+-------+----------+---------+-------+------+--------+-----------+---------------+--------------+-------+----+------+\n|7475327|2010-01-01|     1556|   2972| -77.0|   False|      59935|         Beulah|            ND|58523.0|5499|  null|\n|7475328|2010-01-01|      561|   4575| 14.57|   False|      67570|     Bettendorf|            IA|52722.0|5311|  null|\n|7475329|2010-01-01|     1129|    102|  80.0|   False|      27092|          Vista|            CA|92084.0|4829|  null|\n|7475331|2010-01-01|      430|   2860| 200.0|   False|      27092|    Crown Point|            IN|46307.0|4829|  null|\n|7475332|2010-01-01|      848|   3915| 46.41|   False|      13051|        Harwood|            MD|20776.0|5813|  null|\n|7475333|2010-01-01|     1807|    165|  4.81|   False|      20519|          Bronx|            NY|10464.0|5942|  null|\n|7475334|2010-01-01|     1556|   2972|  77.0|   False|      59935|         Beulah|            ND|58523.0|5499|  null|\n|7475335|2010-01-01|     1684|   2140| 26.46|    True|      39021|         ONLINE|          null|   null|4784|  null|\n|7475336|2010-01-01|      335|   5131|261.58|    True|      50292|         ONLINE|          null|   null|7801|  null|\n|7475337|2010-01-01|      351|   1112| 10.74|   False|       3864|       Flushing|            NY|11355.0|5813|  null|\n|7475338|2010-01-01|      554|   3912|  3.51|   False|      67570|       Pearland|            TX|77581.0|5311|  null|\n|7475339|2010-01-01|      605|   5061|  2.58|   False|      75781|       Brooklyn|            NY|11210.0|5411|  null|\n|7475340|2010-01-01|     1556|   2972| 39.63|   False|      59935|         Beulah|            ND|58523.0|5499|  null|\n|7475341|2010-01-01|     1797|   1127| 43.33|   False|      33326|        Kahului|            HI|96732.0|4121|  null|\n|7475342|2010-01-01|      114|   3398| 49.42|   False|      61195|North Hollywood|            CA|91606.0|5541|  null|\n|7475343|2010-01-01|     1634|   2464|  1.09|   False|      20519|     San Benito|            TX|78586.0|5942|  null|\n|7475344|2010-01-01|      646|   2093| 73.79|   False|       1636|           Erie|            PA|16511.0|7538|  null|\n|7475345|2010-01-01|     1129|   5492| 100.0|   False|      27092|          Vista|            CA|92084.0|4829|  null|\n|7475346|2010-01-01|      394|   4717| 26.04|    True|      39021|         ONLINE|          null|   null|4784|  null|\n|7475347|2010-01-01|      114|   3398| -64.0|   False|      61195|North Hollywood|            CA|91606.0|5541|  null|\n+-------+----------+---------+-------+------+--------+-----------+---------------+--------------+-------+----+------+\nonly showing top 20 rows\n\n+--------+----------+---------+-------+-------+----------------+-----------+-------------+--------------+-------+----+------+\n|      id|      date|client_id|card_id| amount|        use_chip|merchant_id|merchant_city|merchant_state|    zip| mcc|errors|\n+--------+----------+---------+-------+-------+----------------+-----------+-------------+--------------+-------+----+------+\n| 8544734|2010-09-22|      708|   5165| 6820.2|           False|      34524|Staten Island|            NY|10302.0|5712|  null|\n|22453398|2019-01-27|     1081|   3427|6613.44|            True|       9026|       ONLINE|          null|   null|4411|  null|\n|10973185|2012-04-10|     1259|   5406|5913.37|           False|      85983|       Wilton|            CT| 6897.0|5932|  null|\n|12783563|2013-05-22|     1487|   4946|5813.78|            True|       9026|       ONLINE|          null|   null|4411|  null|\n|15155601|2014-10-24|      278|   5619|5696.78|            True|       7202|       ONLINE|          null|   null|4411|  null|\n| 8473892|2010-09-05|     1699|   2204|5694.44|            True|       9026|       ONLINE|          null|   null|4411|  null|\n|21211758|2018-05-09|     1156|    175|5682.22|            True|       9026|       ONLINE|          null|   null|4411|  null|\n|15245857|2014-11-13|     1259|   5406| 5654.5|           False|      76639|     Stamford|            CT| 6907.0|5732|  null|\n|22383851|2019-01-13|      708|   5621|5591.73|Chip Transaction|      84324|     New York|            NY|10069.0|5712|  null|\n|20412330|2017-11-21|      742|   3943|5155.36|            True|       7202|       ONLINE|          null|   null|4411|  null|\n| 9793048|2011-07-13|     1269|   4147|4984.24|            True|      39105|       ONLINE|          null|   null|4411|  null|\n| 7808164|2010-03-26|     1142|   4674|4978.45|            True|       9026|       ONLINE|          null|   null|4411|  null|\n|16163875|2015-05-30|      278|   5619|4804.21|            True|      47225|       ONLINE|          null|   null|4411|  null|\n|14517073|2014-06-07|     1259|   2006|4747.97|           False|      84905|       Wilton|            CT| 6897.0|5733|  null|\n|20057619|2017-09-07|       96|    361|4729.38|            True|      47225|       ONLINE|          null|   null|4411|  null|\n| 9662810|2011-06-13|       96|   3773|4685.23|           False|      81591|  Yorba Linda|            CA|92886.0|5300|  null|\n|17165833|2015-12-30|     1259|   2006|4645.71|Chip Transaction|      85983|       Wilton|            CT| 6897.0|5932|  null|\n|16393859|2015-07-18|       96|   3773|4633.43|Chip Transaction|      76639|        Somis|            CA|93066.0|5732|  null|\n|19431468|2017-04-27|     1147|   3924|4613.24|            True|      39105|       ONLINE|          null|   null|4411|  null|\n| 9871345|2011-07-31|     1177|   3030| 4382.9|            True|       9922|       ONLINE|          null|   null|4411|  null|\n+--------+----------+---------+-------+-------+----------------+-----------+-------------+--------------+-------+----+------+\nonly showing top 20 rows\n\n+--------------+------+\n|merchant_state| count|\n+--------------+------+\n|        Russia|   227|\n|            AZ|195940|\n|            SC|172753|\n|            LA|159719|\n|        Sweden|   224|\n|            MN|178808|\n|   Philippines|   664|\n|       Eritrea|    24|\n|         Tonga|     2|\n|     Singapore|   121|\n|            NJ|322227|\n|          Fiji|     8|\n|            DC| 13174|\n|       Germany|  3025|\n|        Jordan|    14|\n|            OR| 99925|\n|        France|  2836|\n|        Greece|   403|\n|        Taiwan|   962|\n|            VA|230685|\n+--------------+------+\nonly showing top 20 rows\n\n+-------+----------+---------+-------+------+--------+-----------+-------------+--------------+----+----+--------------------+\n|     id|      date|client_id|card_id|amount|use_chip|merchant_id|merchant_city|merchant_state| zip| mcc|              errors|\n+-------+----------+---------+-------+------+--------+-----------+-------------+--------------+----+----+--------------------+\n|7475336|2010-01-01|      335|   5131|261.58|    True|      50292|       ONLINE|          null|null|7801|                null|\n|7475365|2010-01-01|      820|    127|270.22|    True|      73186|       ONLINE|          null|null|4814|                null|\n|7475401|2010-01-01|     1449|    241|119.23|    True|      87530|       ONLINE|          null|null|4900|                null|\n|7475494|2010-01-01|      103|   5113|166.34|    True|      56276|       ONLINE|          null|null|4899|                null|\n|7475520|2010-01-01|     1102|   2822| 185.6|    True|      80770|       ONLINE|          null|null|7922|                null|\n|7475607|2010-01-01|      135|   2808|189.29|    True|      90999|       ONLINE|          null|null|4722|                null|\n|7475730|2010-01-01|       11|    243|192.29|    True|      52100|       ONLINE|          null|null|7801|                null|\n|7475737|2010-01-01|      119|   5980|178.53|    True|      73186|       ONLINE|          null|null|4814|                null|\n|7475744|2010-01-01|     1920|   5579|103.79|    True|      96529|       ONLINE|          null|null|4899|                null|\n|7475804|2010-01-01|     1727|   5982|162.91|    True|      73186|       ONLINE|          null|null|4814|                null|\n|7475854|2010-01-01|      827|   2836|149.43|    True|      73186|       ONLINE|          null|null|4814|                null|\n|7475918|2010-01-01|      447|   3865|118.28|    True|      59350|       ONLINE|          null|null|7922|                null|\n|7476079|2010-01-01|     1919|   5430|165.71|    True|      80770|       ONLINE|          null|null|7922|                null|\n|7476397|2010-01-01|     1909|   1136|125.85|    True|      32480|       ONLINE|          null|null|4899|                null|\n|7476515|2010-01-01|     1891|   5047|147.96|    True|      65108|       ONLINE|          null|null|4899|                null|\n|7476598|2010-01-01|      457|   5554|108.41|    True|       4802|       ONLINE|          null|null|4899|                null|\n|7476630|2010-01-01|      744|   4571|123.29|    True|      87530|       ONLINE|          null|null|4900|                null|\n|7476696|2010-01-01|     1507|   4671|116.55|    True|      65108|       ONLINE|          null|null|4899|                null|\n|7476847|2010-01-01|     1500|   4729|129.58|    True|        726|       ONLINE|          null|null|4900|                null|\n|7476878|2010-01-01|     1500|   5034|130.85|    True|        726|       ONLINE|          null|null|4900|Insufficient Balance|\n+-------+----------+---------+-------+------+--------+-----------+-------------+--------------+----+----+--------------------+\nonly showing top 20 rows\n\n"
     ]
    }
   ],
   "source": [
    "# COMMAND ----------\n",
    "\n",
    "# Mostrar os resultados\n",
    "df.show()\n",
    "df_cleaned.show()\n",
    "df_sorted.show()\n",
    "df_grouped.show()\n",
    "df_filtered.show()"
   ]
  }
 ],
 "metadata": {
  "application/vnd.databricks.v1+notebook": {
   "dashboards": [],
   "environmentMetadata": null,
   "language": "python",
   "notebookMetadata": {
    "pythonIndentUnit": 4
   },
   "notebookName": "projeto-big-data-pyspark-large-v1",
   "widgets": {}
  }
 },
 "nbformat": 4,
 "nbformat_minor": 0
}
